{
 "cells": [
  {
   "cell_type": "markdown",
   "metadata": {},
   "source": [
    "# 1. Setup"
   ]
  },
  {
   "cell_type": "code",
   "execution_count": 4,
   "metadata": {},
   "outputs": [],
   "source": [
    "from lightgbm import LGBMRegressor\n",
    "import shap\n",
    "from sklearn.ensemble import RandomForestRegressor\n",
    "from sklearn.linear_model import LinearRegression, SGDRegressor, BayesianRidge\n",
    "from sklearn.metrics import (r2_score, mean_squared_error, mean_absolute_error,\n",
    "                             mean_absolute_percentage_error)\n",
    "from sklearn.model_selection import GridSearchCV\n",
    "from sklearn.svm import LinearSVR\n",
    "from xgboost import XGBRegressor\n",
    "\n",
    "from utils import *"
   ]
  },
  {
   "cell_type": "markdown",
   "metadata": {},
   "source": [
    "# 2. Prepare data"
   ]
  },
  {
   "cell_type": "markdown",
   "metadata": {},
   "source": [
    "## 2.1. Load data"
   ]
  },
  {
   "cell_type": "code",
   "execution_count": 5,
   "metadata": {},
   "outputs": [
    {
     "name": "stdout",
     "output_type": "stream",
     "text": [
      "747,088 rows x 21 cols; Memory: 34.9 MiB\n"
     ]
    },
    {
     "data": {
      "text/html": [
       "<div>\n",
       "<style scoped>\n",
       "    .dataframe tbody tr th:only-of-type {\n",
       "        vertical-align: middle;\n",
       "    }\n",
       "\n",
       "    .dataframe tbody tr th {\n",
       "        vertical-align: top;\n",
       "    }\n",
       "\n",
       "    .dataframe thead th {\n",
       "        text-align: right;\n",
       "    }\n",
       "</style>\n",
       "<table border=\"1\" class=\"dataframe\">\n",
       "  <thead>\n",
       "    <tr style=\"text-align: right;\">\n",
       "      <th></th>\n",
       "      <th>Distance</th>\n",
       "      <th>Time</th>\n",
       "      <th>Speed</th>\n",
       "      <th>Weight</th>\n",
       "      <th>Purpose</th>\n",
       "      <th>Mode</th>\n",
       "      <th>Weekend</th>\n",
       "      <th>GasPrice</th>\n",
       "      <th>StayTime</th>\n",
       "      <th>StartTime</th>\n",
       "      <th>...</th>\n",
       "      <th>Region</th>\n",
       "      <th>Age</th>\n",
       "      <th>Sex</th>\n",
       "      <th>Race</th>\n",
       "      <th>Hispanic</th>\n",
       "      <th>Education</th>\n",
       "      <th>Worker</th>\n",
       "      <th>Income</th>\n",
       "      <th>HomeOwn</th>\n",
       "      <th>VehOwn</th>\n",
       "    </tr>\n",
       "  </thead>\n",
       "  <tbody>\n",
       "    <tr>\n",
       "      <th></th>\n",
       "      <td>&lt;float64&gt;</td>\n",
       "      <td>&lt;float64&gt;</td>\n",
       "      <td>&lt;float64&gt;</td>\n",
       "      <td>&lt;float64&gt;</td>\n",
       "      <td>&lt;category&gt;</td>\n",
       "      <td>&lt;category&gt;</td>\n",
       "      <td>&lt;category&gt;</td>\n",
       "      <td>&lt;category&gt;</td>\n",
       "      <td>&lt;category&gt;</td>\n",
       "      <td>&lt;category&gt;</td>\n",
       "      <td>...</td>\n",
       "      <td>&lt;category&gt;</td>\n",
       "      <td>&lt;category&gt;</td>\n",
       "      <td>&lt;category&gt;</td>\n",
       "      <td>&lt;category&gt;</td>\n",
       "      <td>&lt;category&gt;</td>\n",
       "      <td>&lt;category&gt;</td>\n",
       "      <td>&lt;category&gt;</td>\n",
       "      <td>&lt;category&gt;</td>\n",
       "      <td>&lt;category&gt;</td>\n",
       "      <td>&lt;category&gt;</td>\n",
       "    </tr>\n",
       "    <tr>\n",
       "      <th>0</th>\n",
       "      <td>8.439379</td>\n",
       "      <td>16.182075</td>\n",
       "      <td>31.291583</td>\n",
       "      <td>1.0</td>\n",
       "      <td>HBO</td>\n",
       "      <td>Drive</td>\n",
       "      <td>No</td>\n",
       "      <td>Low</td>\n",
       "      <td>Long</td>\n",
       "      <td>Off-peak</td>\n",
       "      <td>...</td>\n",
       "      <td>South</td>\n",
       "      <td>Senior</td>\n",
       "      <td>Female</td>\n",
       "      <td>Non-White</td>\n",
       "      <td>No</td>\n",
       "      <td>College</td>\n",
       "      <td>No</td>\n",
       "      <td>Mid</td>\n",
       "      <td>Own</td>\n",
       "      <td>High</td>\n",
       "    </tr>\n",
       "  </tbody>\n",
       "</table>\n",
       "<p>2 rows × 21 columns</p>\n",
       "</div>"
      ],
      "text/plain": [
       "    Distance       Time      Speed     Weight     Purpose        Mode  \\\n",
       "   <float64>  <float64>  <float64>  <float64>  <category>  <category>   \n",
       "0   8.439379  16.182075  31.291583        1.0         HBO       Drive   \n",
       "\n",
       "      Weekend    GasPrice    StayTime   StartTime  ...      Region  \\\n",
       "   <category>  <category>  <category>  <category>  ...  <category>   \n",
       "0          No         Low        Long    Off-peak  ...       South   \n",
       "\n",
       "          Age         Sex        Race    Hispanic   Education      Worker  \\\n",
       "   <category>  <category>  <category>  <category>  <category>  <category>   \n",
       "0      Senior      Female   Non-White          No     College          No   \n",
       "\n",
       "       Income     HomeOwn      VehOwn  \n",
       "   <category>  <category>  <category>  \n",
       "0         Mid         Own        High  \n",
       "\n",
       "[2 rows x 21 columns]"
      ]
     },
     "metadata": {},
     "output_type": "display_data"
    }
   ],
   "source": [
    "trips = pd.read_parquet('data/trips.parquet').disp()"
   ]
  },
  {
   "cell_type": "code",
   "execution_count": 6,
   "metadata": {},
   "outputs": [],
   "source": [
    "factors = list(trips.select_dtypes(CAT).columns)"
   ]
  },
  {
   "cell_type": "code",
   "execution_count": 7,
   "metadata": {},
   "outputs": [
    {
     "name": "stdout",
     "output_type": "stream",
     "text": [
      "52 rows x 3 cols; Memory: 0.0 MiB\n"
     ]
    },
    {
     "data": {
      "text/html": [
       "<div>\n",
       "<style scoped>\n",
       "    .dataframe tbody tr th:only-of-type {\n",
       "        vertical-align: middle;\n",
       "    }\n",
       "\n",
       "    .dataframe tbody tr th {\n",
       "        vertical-align: top;\n",
       "    }\n",
       "\n",
       "    .dataframe thead th {\n",
       "        text-align: right;\n",
       "    }\n",
       "</style>\n",
       "<table border=\"1\" class=\"dataframe\">\n",
       "  <thead>\n",
       "    <tr style=\"text-align: right;\">\n",
       "      <th></th>\n",
       "      <th>factor</th>\n",
       "      <th>level</th>\n",
       "      <th>level_num</th>\n",
       "    </tr>\n",
       "  </thead>\n",
       "  <tbody>\n",
       "    <tr>\n",
       "      <th></th>\n",
       "      <td>&lt;object&gt;</td>\n",
       "      <td>&lt;object&gt;</td>\n",
       "      <td>&lt;int64&gt;</td>\n",
       "    </tr>\n",
       "    <tr>\n",
       "      <th>0</th>\n",
       "      <td>Purpose</td>\n",
       "      <td>HBW</td>\n",
       "      <td>1</td>\n",
       "    </tr>\n",
       "  </tbody>\n",
       "</table>\n",
       "</div>"
      ],
      "text/plain": [
       "     factor     level level_num\n",
       "   <object>  <object>   <int64>\n",
       "0   Purpose       HBW         1"
      ]
     },
     "metadata": {},
     "output_type": "display_data"
    }
   ],
   "source": [
    "levels = Pdf(sum([[(col, x, i+1) for i, x in enumerate(trips[col].cat.categories)]\n",
    "                  for col in trips.select_dtypes(CAT)], []),\n",
    "             columns=['factor', 'level', 'level_num']).disp()"
   ]
  },
  {
   "cell_type": "markdown",
   "metadata": {},
   "source": [
    "## 2.2. Dataset for modeling"
   ]
  },
  {
   "cell_type": "code",
   "execution_count": 8,
   "metadata": {},
   "outputs": [
    {
     "name": "stdout",
     "output_type": "stream",
     "text": [
      "747,088 rows x 52 cols; Memory: 37.0 MiB\n"
     ]
    },
    {
     "data": {
      "text/html": [
       "<div>\n",
       "<style scoped>\n",
       "    .dataframe tbody tr th:only-of-type {\n",
       "        vertical-align: middle;\n",
       "    }\n",
       "\n",
       "    .dataframe tbody tr th {\n",
       "        vertical-align: top;\n",
       "    }\n",
       "\n",
       "    .dataframe thead th {\n",
       "        text-align: right;\n",
       "    }\n",
       "</style>\n",
       "<table border=\"1\" class=\"dataframe\">\n",
       "  <thead>\n",
       "    <tr style=\"text-align: right;\">\n",
       "      <th></th>\n",
       "      <th>Purpose_HBW</th>\n",
       "      <th>Purpose_HBSHOP</th>\n",
       "      <th>Purpose_HBSOC</th>\n",
       "      <th>Purpose_HBO</th>\n",
       "      <th>Purpose_NHB</th>\n",
       "      <th>Mode_Drive</th>\n",
       "      <th>Mode_Transit</th>\n",
       "      <th>Mode_Walk</th>\n",
       "      <th>Mode_Bike</th>\n",
       "      <th>Weekend_Yes</th>\n",
       "      <th>...</th>\n",
       "      <th>Education_College</th>\n",
       "      <th>Worker_Yes</th>\n",
       "      <th>Worker_No</th>\n",
       "      <th>Income_Low</th>\n",
       "      <th>Income_Mid</th>\n",
       "      <th>Income_High</th>\n",
       "      <th>HomeOwn_Own</th>\n",
       "      <th>HomeOwn_Rent</th>\n",
       "      <th>VehOwn_Low</th>\n",
       "      <th>VehOwn_High</th>\n",
       "    </tr>\n",
       "  </thead>\n",
       "  <tbody>\n",
       "    <tr>\n",
       "      <th></th>\n",
       "      <td>&lt;bool&gt;</td>\n",
       "      <td>&lt;bool&gt;</td>\n",
       "      <td>&lt;bool&gt;</td>\n",
       "      <td>&lt;bool&gt;</td>\n",
       "      <td>&lt;bool&gt;</td>\n",
       "      <td>&lt;bool&gt;</td>\n",
       "      <td>&lt;bool&gt;</td>\n",
       "      <td>&lt;bool&gt;</td>\n",
       "      <td>&lt;bool&gt;</td>\n",
       "      <td>&lt;bool&gt;</td>\n",
       "      <td>...</td>\n",
       "      <td>&lt;bool&gt;</td>\n",
       "      <td>&lt;bool&gt;</td>\n",
       "      <td>&lt;bool&gt;</td>\n",
       "      <td>&lt;bool&gt;</td>\n",
       "      <td>&lt;bool&gt;</td>\n",
       "      <td>&lt;bool&gt;</td>\n",
       "      <td>&lt;bool&gt;</td>\n",
       "      <td>&lt;bool&gt;</td>\n",
       "      <td>&lt;bool&gt;</td>\n",
       "      <td>&lt;bool&gt;</td>\n",
       "    </tr>\n",
       "  </tbody>\n",
       "</table>\n",
       "<p>1 rows × 52 columns</p>\n",
       "</div>"
      ],
      "text/plain": [
       " Purpose_HBW Purpose_HBSHOP Purpose_HBSOC Purpose_HBO Purpose_NHB Mode_Drive  \\\n",
       "      <bool>         <bool>        <bool>      <bool>      <bool>     <bool>   \n",
       "\n",
       " Mode_Transit Mode_Walk Mode_Bike Weekend_Yes  ... Education_College  \\\n",
       "       <bool>    <bool>    <bool>      <bool>  ...            <bool>   \n",
       "\n",
       " Worker_Yes Worker_No Income_Low Income_Mid Income_High HomeOwn_Own  \\\n",
       "     <bool>    <bool>     <bool>     <bool>      <bool>      <bool>   \n",
       "\n",
       " HomeOwn_Rent VehOwn_Low VehOwn_High  \n",
       "       <bool>     <bool>      <bool>  \n",
       "\n",
       "[1 rows x 52 columns]"
      ]
     },
     "metadata": {},
     "output_type": "display_data"
    }
   ],
   "source": [
    "X = pd.get_dummies(trips[factors]).disp(0)"
   ]
  },
  {
   "cell_type": "code",
   "execution_count": 9,
   "metadata": {},
   "outputs": [],
   "source": [
    "Y = pd.concat([np.log(1 + trips[x]).rename(x) for x in ['Distance', 'Time']], axis=1)"
   ]
  },
  {
   "cell_type": "code",
   "execution_count": 10,
   "metadata": {},
   "outputs": [
    {
     "data": {
      "image/png": "[encoded data removed]",
      "text/plain": [
       "<Figure size 1500x450 with 2 Axes>"
      ]
     },
     "metadata": {},
     "output_type": "display_data"
    }
   ],
   "source": [
    "_, axes = plt.subplots(1, 2, figsize=(10, 3))\n",
    "for ax, trg in zip(axes, Y.columns):\n",
    "    ax = plot(ax, title=trg, xlab='log$_{10}$(%s)' % trg,\n",
    "              yeng=1, ylab='No. of trips')\n",
    "    Y[trg].hist(bins=100, ax=ax, color='c', alpha=0.6)"
   ]
  },
  {
   "cell_type": "code",
   "execution_count": 11,
   "metadata": {},
   "outputs": [
    {
     "name": "stdout",
     "output_type": "stream",
     "text": [
      "TRAIN: 522,961\n",
      "VAL: 112,063\n",
      "TEST: 112,064\n"
     ]
    }
   ],
   "source": [
    "train_ratio, val_ratio = 0.7, 0.15\n",
    "np.random.seed(1234)\n",
    "np.random.shuffle(X.index.values)\n",
    "splits = np.split(X.index, [int(x * len(X)) for x in [\n",
    "    train_ratio, train_ratio + val_ratio, 1]])\n",
    "idx = D(zip(['train', 'val', 'test'], splits[:-1]))\n",
    "for k, v in idx.items():\n",
    "    print(f'{k.upper()}: {len(v):,}')"
   ]
  },
  {
   "cell_type": "markdown",
   "metadata": {},
   "source": [
    "# SHAP analysis"
   ]
  },
  {
   "cell_type": "markdown",
   "metadata": {},
   "source": [
    "## 2.3. Test models"
   ]
  },
  {
   "cell_type": "code",
   "execution_count": 9,
   "metadata": {},
   "outputs": [],
   "source": [
    "test_models = (\n",
    "    ## Linear models\n",
    "    ('Linear Regression', LinearRegression(), D(\n",
    "        fit_intercept=[True, False],\n",
    "    )),\n",
    "    ('Bayesian Ridge', BayesianRidge(max_iter=1000), D(\n",
    "        alpha_1=[.5e-6, 1e-6, 2e-6],\n",
    "        alpha_2=[.5e-6, 1e-6, 2e-6],\n",
    "        lambda_1=[.5e-6, 1e-6, 2e-6],\n",
    "        lambda_2=[.5e-6, 1e-6, 2e-6],\n",
    "    )),\n",
    "    ('SGD Regression', SGDRegressor(max_iter=1000), D(\n",
    "        alpha=[1e-05, 0.0001, 0.001, 0.01],\n",
    "        l1_ratio=[0.1, 0.15, 0.2, 0.3],\n",
    "        penalty=['l2', 'elasticnet'],\n",
    "    )),\n",
    "    ('Linear SVR', LinearSVR(dual='auto', max_iter=50_000), D(\n",
    "        C=[0.5, 0.75, 1.0, 1.25, 1.5],\n",
    "        epsilon=[0, 0.1, 0.2],\n",
    "        loss=['epsilon_insensitive', 'squared_epsilon_insensitive']\n",
    "    )),\n",
    "    ## Decision tree models\n",
    "    ('Random Forest', RandomForestRegressor(n_jobs=4), D(\n",
    "       n_estimators=[100, 200, 500, 750],\n",
    "       max_depth=[10, 20, 30, 40],\n",
    "    )),\n",
    "    ('Light Gradient Boost', LGBMRegressor(\n",
    "        n_jobs=4, force_row_wise=True, num_leaves=1000, verbosity=-1), D(\n",
    "            learning_rate=[0.05, 0.1, 0.5],\n",
    "            max_depth=[10, 20, 30, 40],\n",
    "            n_estimators=[100, 200, 500, 750],\n",
    "    )),\n",
    "    ('Extreme Gradient Boost', XGBRegressor(n_jobs=4, verbosity=0), D(\n",
    "        booster=['gbtree', 'gblinear'],\n",
    "        learning_rate=[0.05, 0.1, 0.5],\n",
    "        n_estimators=[100, 200, 500, 750],\n",
    "    )),\n",
    ")"
   ]
  },
  {
   "cell_type": "markdown",
   "metadata": {},
   "source": [
    "## 2.4. Cross validate for hyperparameter tuning"
   ]
  },
  {
   "cell_type": "code",
   "execution_count": 10,
   "metadata": {},
   "outputs": [],
   "source": [
    "metrics = D(r2=r2_score, mae=mean_absolute_error, \n",
    "            mape=mean_absolute_percentage_error, mse=mean_squared_error)"
   ]
  },
  {
   "cell_type": "code",
   "execution_count": 11,
   "metadata": {},
   "outputs": [
    {
     "name": "stdout",
     "output_type": "stream",
     "text": [
      "14 rows x 8 cols; Memory: 0.0 MiB\n"
     ]
    },
    {
     "data": {
      "text/html": [
       "<div>\n",
       "<style scoped>\n",
       "    .dataframe tbody tr th:only-of-type {\n",
       "        vertical-align: middle;\n",
       "    }\n",
       "\n",
       "    .dataframe tbody tr th {\n",
       "        vertical-align: top;\n",
       "    }\n",
       "\n",
       "    .dataframe thead th {\n",
       "        text-align: right;\n",
       "    }\n",
       "</style>\n",
       "<table border=\"1\" class=\"dataframe\">\n",
       "  <thead>\n",
       "    <tr style=\"text-align: right;\">\n",
       "      <th></th>\n",
       "      <th>target</th>\n",
       "      <th>model</th>\n",
       "      <th>params</th>\n",
       "      <th>estimator</th>\n",
       "      <th>r2</th>\n",
       "      <th>mae</th>\n",
       "      <th>mape</th>\n",
       "      <th>mse</th>\n",
       "    </tr>\n",
       "  </thead>\n",
       "  <tbody>\n",
       "    <tr>\n",
       "      <th></th>\n",
       "      <td>&lt;object&gt;</td>\n",
       "      <td>&lt;object&gt;</td>\n",
       "      <td>&lt;object&gt;</td>\n",
       "      <td>&lt;object&gt;</td>\n",
       "      <td>&lt;float64&gt;</td>\n",
       "      <td>&lt;float64&gt;</td>\n",
       "      <td>&lt;float64&gt;</td>\n",
       "      <td>&lt;float64&gt;</td>\n",
       "    </tr>\n",
       "    <tr>\n",
       "      <th>0</th>\n",
       "      <td>Distance</td>\n",
       "      <td>Linear Regression</td>\n",
       "      <td>{'fit_intercept': False}</td>\n",
       "      <td>LinearRegression(fit_intercept=False)</td>\n",
       "      <td>0.343806</td>\n",
       "      <td>0.658501</td>\n",
       "      <td>0.89979</td>\n",
       "      <td>0.681571</td>\n",
       "    </tr>\n",
       "  </tbody>\n",
       "</table>\n",
       "</div>"
      ],
      "text/plain": [
       "     target              model                    params  \\\n",
       "   <object>           <object>                  <object>   \n",
       "0  Distance  Linear Regression  {'fit_intercept': False}   \n",
       "\n",
       "                               estimator         r2        mae       mape  \\\n",
       "                                <object>  <float64>  <float64>  <float64>   \n",
       "0  LinearRegression(fit_intercept=False)   0.343806   0.658501    0.89979   \n",
       "\n",
       "         mse  \n",
       "   <float64>  \n",
       "0   0.681571  "
      ]
     },
     "metadata": {},
     "output_type": "display_data"
    }
   ],
   "source": [
    "def cross_validate(X=X, Y=Y, idx=idx, models=test_models,\n",
    "                   metrics=metrics, njobs=1, overwrite=False):\n",
    "    outpath = Path('data/model_cv.pkl')\n",
    "    if outpath.exists() and not overwrite:\n",
    "        return pd.read_pickle(outpath)\n",
    "    res = []\n",
    "    for target in Y.columns:\n",
    "        Xval, yval = X.loc[idx['val']], Y.loc[idx['val'], target]\n",
    "        Xtest, ytest = X.loc[idx['test']], Y.loc[idx['test'], target]\n",
    "        pbar = tqdm(models)\n",
    "        for name, model, params in pbar:\n",
    "            pbar.set_description(name)\n",
    "            cv = GridSearchCV(model, params, cv=2, n_jobs=njobs, scoring='r2')\n",
    "            with warnings.catch_warnings():\n",
    "                warnings.simplefilter('ignore')\n",
    "                cv.fit(Xval, yval)\n",
    "            row = D(target=target, model=name, params=cv.best_params_,\n",
    "                    estimator=cv.best_estimator_)\n",
    "            ypred = cv.best_estimator_.predict(Xtest)\n",
    "            for metric, func in metrics.items():\n",
    "                row[metric] = func(ytest, ypred)\n",
    "            res.append(row)\n",
    "    res = Pdf(res)\n",
    "    res.to_pickle(outpath)\n",
    "    return res\n",
    "\n",
    "cv = cross_validate(njobs=12, overwrite=0).disp() # 11m12s"
   ]
  },
  {
   "cell_type": "markdown",
   "metadata": {},
   "source": [
    "### 2.4.1. Compare model fitness"
   ]
  },
  {
   "cell_type": "code",
   "execution_count": 12,
   "metadata": {},
   "outputs": [
    {
     "data": {
      "text/html": [
       "<div>\n",
       "<style scoped>\n",
       "    .dataframe tbody tr th:only-of-type {\n",
       "        vertical-align: middle;\n",
       "    }\n",
       "\n",
       "    .dataframe tbody tr th {\n",
       "        vertical-align: top;\n",
       "    }\n",
       "\n",
       "    .dataframe thead tr th {\n",
       "        text-align: left;\n",
       "    }\n",
       "\n",
       "    .dataframe thead tr:last-of-type th {\n",
       "        text-align: right;\n",
       "    }\n",
       "</style>\n",
       "<table border=\"1\" class=\"dataframe\">\n",
       "  <thead>\n",
       "    <tr>\n",
       "      <th>target</th>\n",
       "      <th colspan=\"4\" halign=\"left\">Distance</th>\n",
       "      <th colspan=\"4\" halign=\"left\">Time</th>\n",
       "    </tr>\n",
       "    <tr>\n",
       "      <th>metric</th>\n",
       "      <th>mae</th>\n",
       "      <th>mape</th>\n",
       "      <th>mse</th>\n",
       "      <th>r2</th>\n",
       "      <th>mae</th>\n",
       "      <th>mape</th>\n",
       "      <th>mse</th>\n",
       "      <th>r2</th>\n",
       "    </tr>\n",
       "    <tr>\n",
       "      <th>model</th>\n",
       "      <th></th>\n",
       "      <th></th>\n",
       "      <th></th>\n",
       "      <th></th>\n",
       "      <th></th>\n",
       "      <th></th>\n",
       "      <th></th>\n",
       "      <th></th>\n",
       "    </tr>\n",
       "  </thead>\n",
       "  <tbody>\n",
       "    <tr>\n",
       "      <th>Linear Regression</th>\n",
       "      <td>0.658501</td>\n",
       "      <td>0.899790</td>\n",
       "      <td>0.681571</td>\n",
       "      <td>0.343806</td>\n",
       "      <td>0.564024</td>\n",
       "      <td>0.270498</td>\n",
       "      <td>0.513964</td>\n",
       "      <td>0.143653</td>\n",
       "    </tr>\n",
       "    <tr>\n",
       "      <th>Bayesian Ridge</th>\n",
       "      <td>0.658479</td>\n",
       "      <td>0.899785</td>\n",
       "      <td>0.681572</td>\n",
       "      <td>0.343806</td>\n",
       "      <td>0.564024</td>\n",
       "      <td>0.270561</td>\n",
       "      <td>0.513970</td>\n",
       "      <td>0.143644</td>\n",
       "    </tr>\n",
       "    <tr>\n",
       "      <th>SGD Regression</th>\n",
       "      <td>0.660349</td>\n",
       "      <td>0.915959</td>\n",
       "      <td>0.682426</td>\n",
       "      <td>0.342983</td>\n",
       "      <td>0.564584</td>\n",
       "      <td>0.269639</td>\n",
       "      <td>0.514491</td>\n",
       "      <td>0.142776</td>\n",
       "    </tr>\n",
       "    <tr>\n",
       "      <th>Linear SVR</th>\n",
       "      <td>0.658469</td>\n",
       "      <td>0.899467</td>\n",
       "      <td>0.681571</td>\n",
       "      <td>0.343807</td>\n",
       "      <td>0.564015</td>\n",
       "      <td>0.270538</td>\n",
       "      <td>0.513960</td>\n",
       "      <td>0.143661</td>\n",
       "    </tr>\n",
       "    <tr>\n",
       "      <th>Random Forest</th>\n",
       "      <td>0.650633</td>\n",
       "      <td>0.868155</td>\n",
       "      <td>0.671368</td>\n",
       "      <td>0.353629</td>\n",
       "      <td>0.555423</td>\n",
       "      <td>0.266155</td>\n",
       "      <td>0.499911</td>\n",
       "      <td>0.167068</td>\n",
       "    </tr>\n",
       "    <tr>\n",
       "      <th>Light Gradient Boost</th>\n",
       "      <td>0.644021</td>\n",
       "      <td>0.859328</td>\n",
       "      <td>0.660372</td>\n",
       "      <td>0.364216</td>\n",
       "      <td>0.552362</td>\n",
       "      <td>0.264467</td>\n",
       "      <td>0.495301</td>\n",
       "      <td>0.174749</td>\n",
       "    </tr>\n",
       "    <tr>\n",
       "      <th>Extreme Gradient Boost</th>\n",
       "      <td>0.643492</td>\n",
       "      <td>0.862667</td>\n",
       "      <td>0.659024</td>\n",
       "      <td>0.365514</td>\n",
       "      <td>0.552227</td>\n",
       "      <td>0.264630</td>\n",
       "      <td>0.494310</td>\n",
       "      <td>0.176400</td>\n",
       "    </tr>\n",
       "  </tbody>\n",
       "</table>\n",
       "</div>"
      ],
      "text/plain": [
       "target                  Distance                                    Time  \\\n",
       "metric                       mae      mape       mse        r2       mae   \n",
       "model                                                                      \n",
       "Linear Regression       0.658501  0.899790  0.681571  0.343806  0.564024   \n",
       "Bayesian Ridge          0.658479  0.899785  0.681572  0.343806  0.564024   \n",
       "SGD Regression          0.660349  0.915959  0.682426  0.342983  0.564584   \n",
       "Linear SVR              0.658469  0.899467  0.681571  0.343807  0.564015   \n",
       "Random Forest           0.650633  0.868155  0.671368  0.353629  0.555423   \n",
       "Light Gradient Boost    0.644021  0.859328  0.660372  0.364216  0.552362   \n",
       "Extreme Gradient Boost  0.643492  0.862667  0.659024  0.365514  0.552227   \n",
       "\n",
       "target                                                \n",
       "metric                      mape       mse        r2  \n",
       "model                                                 \n",
       "Linear Regression       0.270498  0.513964  0.143653  \n",
       "Bayesian Ridge          0.270561  0.513970  0.143644  \n",
       "SGD Regression          0.269639  0.514491  0.142776  \n",
       "Linear SVR              0.270538  0.513960  0.143661  \n",
       "Random Forest           0.266155  0.499911  0.167068  \n",
       "Light Gradient Boost    0.264467  0.495301  0.174749  \n",
       "Extreme Gradient Boost  0.264630  0.494310  0.176400  "
      ]
     },
     "execution_count": 12,
     "metadata": {},
     "output_type": "execute_result"
    }
   ],
   "source": [
    "(cv.drop(columns=['params', 'estimator'])\n",
    " .assign(model=lambda df: factor(df.model))\n",
    " .melt(['target', 'model'], var_name='metric')\n",
    " .pivot_table('value', 'model', ['target', 'metric']))"
   ]
  },
  {
   "cell_type": "markdown",
   "metadata": {},
   "source": [
    "## 2.5. Compute SHAP values"
   ]
  },
  {
   "cell_type": "code",
   "execution_count": 13,
   "metadata": {},
   "outputs": [
    {
     "name": "stdout",
     "output_type": "stream",
     "text": [
      "1,494,176 rows x 53 cols; Memory: 309.2 MiB\n"
     ]
    },
    {
     "data": {
      "text/html": [
       "<div>\n",
       "<style scoped>\n",
       "    .dataframe tbody tr th:only-of-type {\n",
       "        vertical-align: middle;\n",
       "    }\n",
       "\n",
       "    .dataframe tbody tr th {\n",
       "        vertical-align: top;\n",
       "    }\n",
       "\n",
       "    .dataframe thead th {\n",
       "        text-align: right;\n",
       "    }\n",
       "</style>\n",
       "<table border=\"1\" class=\"dataframe\">\n",
       "  <thead>\n",
       "    <tr style=\"text-align: right;\">\n",
       "      <th></th>\n",
       "      <th>Target</th>\n",
       "      <th>Purpose_HBW</th>\n",
       "      <th>Purpose_HBSHOP</th>\n",
       "      <th>Purpose_HBSOC</th>\n",
       "      <th>Purpose_HBO</th>\n",
       "      <th>Purpose_NHB</th>\n",
       "      <th>Mode_Drive</th>\n",
       "      <th>Mode_Transit</th>\n",
       "      <th>Mode_Walk</th>\n",
       "      <th>Mode_Bike</th>\n",
       "      <th>...</th>\n",
       "      <th>Education_College</th>\n",
       "      <th>Worker_Yes</th>\n",
       "      <th>Worker_No</th>\n",
       "      <th>Income_Low</th>\n",
       "      <th>Income_Mid</th>\n",
       "      <th>Income_High</th>\n",
       "      <th>HomeOwn_Own</th>\n",
       "      <th>HomeOwn_Rent</th>\n",
       "      <th>VehOwn_Low</th>\n",
       "      <th>VehOwn_High</th>\n",
       "    </tr>\n",
       "  </thead>\n",
       "  <tbody>\n",
       "    <tr>\n",
       "      <th></th>\n",
       "      <td>&lt;category&gt;</td>\n",
       "      <td>&lt;float32&gt;</td>\n",
       "      <td>&lt;float32&gt;</td>\n",
       "      <td>&lt;float32&gt;</td>\n",
       "      <td>&lt;float32&gt;</td>\n",
       "      <td>&lt;float32&gt;</td>\n",
       "      <td>&lt;float32&gt;</td>\n",
       "      <td>&lt;float32&gt;</td>\n",
       "      <td>&lt;float32&gt;</td>\n",
       "      <td>&lt;float32&gt;</td>\n",
       "      <td>...</td>\n",
       "      <td>&lt;float32&gt;</td>\n",
       "      <td>&lt;float32&gt;</td>\n",
       "      <td>&lt;float32&gt;</td>\n",
       "      <td>&lt;float32&gt;</td>\n",
       "      <td>&lt;float32&gt;</td>\n",
       "      <td>&lt;float32&gt;</td>\n",
       "      <td>&lt;float32&gt;</td>\n",
       "      <td>&lt;float32&gt;</td>\n",
       "      <td>&lt;float32&gt;</td>\n",
       "      <td>&lt;float32&gt;</td>\n",
       "    </tr>\n",
       "    <tr>\n",
       "      <th>0</th>\n",
       "      <td>Distance</td>\n",
       "      <td>-0.060222</td>\n",
       "      <td>0.008904</td>\n",
       "      <td>-0.011895</td>\n",
       "      <td>0.022393</td>\n",
       "      <td>0.040871</td>\n",
       "      <td>0.005986</td>\n",
       "      <td>-0.004872</td>\n",
       "      <td>0.109285</td>\n",
       "      <td>0.003776</td>\n",
       "      <td>...</td>\n",
       "      <td>0.0</td>\n",
       "      <td>-0.019401</td>\n",
       "      <td>0.0</td>\n",
       "      <td>0.025941</td>\n",
       "      <td>0.00048</td>\n",
       "      <td>-0.016371</td>\n",
       "      <td>0.010399</td>\n",
       "      <td>0.0</td>\n",
       "      <td>0.001747</td>\n",
       "      <td>0.0</td>\n",
       "    </tr>\n",
       "  </tbody>\n",
       "</table>\n",
       "<p>2 rows × 53 columns</p>\n",
       "</div>"
      ],
      "text/plain": [
       "       Target Purpose_HBW Purpose_HBSHOP Purpose_HBSOC Purpose_HBO  \\\n",
       "   <category>   <float32>      <float32>     <float32>   <float32>   \n",
       "0    Distance   -0.060222       0.008904     -0.011895    0.022393   \n",
       "\n",
       "  Purpose_NHB Mode_Drive Mode_Transit  Mode_Walk  Mode_Bike  ...  \\\n",
       "    <float32>  <float32>    <float32>  <float32>  <float32>  ...   \n",
       "0    0.040871   0.005986    -0.004872   0.109285   0.003776  ...   \n",
       "\n",
       "  Education_College Worker_Yes  Worker_No Income_Low Income_Mid Income_High  \\\n",
       "          <float32>  <float32>  <float32>  <float32>  <float32>   <float32>   \n",
       "0               0.0  -0.019401        0.0   0.025941    0.00048   -0.016371   \n",
       "\n",
       "  HomeOwn_Own HomeOwn_Rent VehOwn_Low VehOwn_High  \n",
       "    <float32>    <float32>  <float32>   <float32>  \n",
       "0    0.010399          0.0   0.001747         0.0  \n",
       "\n",
       "[2 rows x 53 columns]"
      ]
     },
     "metadata": {},
     "output_type": "display_data"
    }
   ],
   "source": [
    "def get_shaps(cv=cv, model='Extreme Gradient Boost',\n",
    "              X=X, seed=1234, overwrite=False):\n",
    "    outpath = Path('data/shaps.parquet')\n",
    "    if outpath.exists() and not overwrite:\n",
    "        return pd.read_parquet(outpath)\n",
    "    res = []\n",
    "    for target in tqdm(['Distance', 'Time']):\n",
    "        row = filt(cv, model=model, target=target).iloc[0]\n",
    "        explainer = shap.TreeExplainer(row.estimator, seed=seed)\n",
    "        shaps = explainer(X).values\n",
    "        df = Pdf(shaps, columns=X.columns).astype(np.float32)\n",
    "        df.insert(0, 'Target', target)\n",
    "        res.append(df)\n",
    "    df = pd.concat(res).astype(D(Target=CAT))\n",
    "    df.to_parquet(outpath)\n",
    "    return df\n",
    "\n",
    "shaps = get_shaps(overwrite=0).disp() # 19m28s"
   ]
  },
  {
   "cell_type": "markdown",
   "metadata": {},
   "source": [
    "### 2.5.1. Plot variable contributions"
   ]
  },
  {
   "cell_type": "code",
   "execution_count": 14,
   "metadata": {},
   "outputs": [
    {
     "data": {
      "image/png": "[encoded data removed]",
      "text/plain": [
       "<Figure size 1350x375 with 2 Axes>"
      ]
     },
     "metadata": {},
     "output_type": "display_data"
    }
   ],
   "source": [
    "def fig_shap_contrib(shaps=shaps, dpi=150, cmap='Set2'):\n",
    "    sh = np.abs(shaps.set_index('Target'))\n",
    "    sh = sh.groupby('Target').mean(0).reset_index().melt('Target')\n",
    "    sh['Factor'], sh['Level'] = [\n",
    "        factor(x) for x in zip(*sh.variable.str.split('_'))]\n",
    "    _, axes = plt.subplots(1, 2, figsize=(9, 2.5), dpi=dpi)\n",
    "    for i, target in enumerate(['Distance', 'Time']):\n",
    "        ax = plot(axes[i], xminor=0, xlim=(-0.5, sh.Factor.nunique() - 0.5),\n",
    "                    ylab='Mean(|SHAP value|)' if i == 0 else '')\n",
    "        for col, d in sh[sh.Target == target].groupby('Factor'):\n",
    "            bottom = d.value.cumsum().shift().fillna(0)\n",
    "            colors = sns.color_palette(cmap, len(d)).as_hex()\n",
    "            for val, bottom, color in zip(d.value, bottom, colors):\n",
    "                ax.bar(col, val, bottom=bottom, color=color, width=0.6)\n",
    "        ax.set_xticklabels([])\n",
    "        if i == 0:\n",
    "            max_levels = sh.groupby(['Target', 'Factor']).size().max()\n",
    "            colors = sns.color_palette(cmap, max_levels)\n",
    "            handles = [mpl.patches.Patch(color=c, label=f'{i+1}')\n",
    "                       for i, c in enumerate(colors)]\n",
    "            ax.legend(title='Factor level', title_fontsize=11,\n",
    "                      fontsize=10, handles=handles)\n",
    "    plt.tight_layout()\n",
    "    imsave('Impedance feature contributions SHAP')\n",
    "\n",
    "fig_shap_contrib(dpi=150) # 3s"
   ]
  },
  {
   "cell_type": "code",
   "execution_count": 15,
   "metadata": {},
   "outputs": [
    {
     "data": {
      "image/png": "[encoded data removed]",
      "text/plain": [
       "<Figure size 1350x375 with 2 Axes>"
      ]
     },
     "metadata": {},
     "output_type": "display_data"
    }
   ],
   "source": [
    "def fig_shap_contrib(shaps=shaps, dpi=150, cmap='Set2'):\n",
    "    sh = np.abs(shaps.set_index('Target'))\n",
    "    sh = sh.groupby('Target').mean(0).reset_index().melt('Target')\n",
    "    sh['Factor'], sh['Level'] = [\n",
    "        factor(x) for x in zip(*sh.variable.str.split('_'))]\n",
    "    _, axes = plt.subplots(1, 2, figsize=(9, 2.5), dpi=dpi)\n",
    "    for i, target in enumerate(['Distance', 'Time']):\n",
    "        ax = plot(axes[i], xminor=0, xlim=(-0.5, sh.Factor.nunique() - 0.5),\n",
    "                    ylab='Mean(|SHAP value|)' if i == 0 else '')\n",
    "        for col, d in sh[sh.Target == target].groupby('Factor'):\n",
    "            bottom = d.value.cumsum().shift().fillna(0)\n",
    "            colors = sns.color_palette(cmap, len(d)).as_hex()\n",
    "            for val, bottom, color in zip(d.value, bottom, colors):\n",
    "                ax.bar(col, val, bottom=bottom, color='#D3A432', width=0.6)\n",
    "        ax.set_xticklabels([])\n",
    "    plt.tight_layout()\n",
    "    imsave('Impedance feature contributions SHAP')\n",
    "\n",
    "fig_shap_contrib(dpi=150) # 3s"
   ]
  },
  {
   "cell_type": "code",
   "execution_count": null,
   "metadata": {},
   "outputs": [],
   "source": []
  }
 ],
 "metadata": {
  "kernelspec": {
   "display_name": "mk11",
   "language": "python",
   "name": "python3"
  },
  "language_info": {
   "codemirror_mode": {
    "name": "ipython",
    "version": 3
   },
   "file_extension": ".py",
   "mimetype": "text/x-python",
   "name": "python",
   "nbconvert_exporter": "python",
   "pygments_lexer": "ipython3",
   "version": "3.12.7"
  }
 },
 "nbformat": 4,
 "nbformat_minor": 2
}
