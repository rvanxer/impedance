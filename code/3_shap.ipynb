{
 "cells": [
  {
   "cell_type": "markdown",
   "id": "3abcfa2e",
   "metadata": {},
   "source": [
    "# 1. Setup"
   ]
  },
  {
   "cell_type": "code",
   "execution_count": 1,
   "id": "80fd0c3a-d456-4a49-9c58-95dc2e55a102",
   "metadata": {
    "tags": []
   },
   "outputs": [],
   "source": [
    "from time import time\n",
    "\n",
    "import plotly.express as px\n",
    "from pqdm.processes import pqdm\n",
    "from scipy.optimize import curve_fit\n",
    "from lightgbm import LGBMRegressor\n",
    "import shap\n",
    "from sklearn.ensemble import RandomForestRegressor\n",
    "from sklearn.linear_model import LinearRegression, SGDRegressor, BayesianRidge\n",
    "from sklearn.metrics import (r2_score, mean_squared_error, mean_absolute_error,\n",
    "                             mean_absolute_percentage_error, make_scorer)\n",
    "from sklearn.model_selection import GridSearchCV\n",
    "from sklearn.svm import LinearSVR\n",
    "from xgboost import XGBRegressor\n",
    "\n",
    "from utils import *"
   ]
  },
  {
   "cell_type": "markdown",
   "id": "3da419db",
   "metadata": {},
   "source": [
    "# 2. Prepare data"
   ]
  },
  {
   "cell_type": "markdown",
   "id": "d1134f84",
   "metadata": {},
   "source": [
    "## 2.1. Trips"
   ]
  },
  {
   "cell_type": "code",
   "execution_count": 2,
   "id": "54373eb1-01ef-4391-b48d-1f2efab852fa",
   "metadata": {
    "tags": []
   },
   "outputs": [
    {
     "name": "stdout",
     "output_type": "stream",
     "text": [
      "747,088 rows x 21 cols; Memory: 34.9 MiB\n"
     ]
    },
    {
     "data": {
      "text/html": [
       "<div>\n",
       "<style scoped>\n",
       "    .dataframe tbody tr th:only-of-type {\n",
       "        vertical-align: middle;\n",
       "    }\n",
       "\n",
       "    .dataframe tbody tr th {\n",
       "        vertical-align: top;\n",
       "    }\n",
       "\n",
       "    .dataframe thead th {\n",
       "        text-align: right;\n",
       "    }\n",
       "</style>\n",
       "<table border=\"1\" class=\"dataframe\">\n",
       "  <thead>\n",
       "    <tr style=\"text-align: right;\">\n",
       "      <th></th>\n",
       "      <th>Distance</th>\n",
       "      <th>Time</th>\n",
       "      <th>Speed</th>\n",
       "      <th>Weight</th>\n",
       "      <th>Purpose</th>\n",
       "      <th>Mode</th>\n",
       "      <th>Weekend</th>\n",
       "      <th>GasPrice</th>\n",
       "      <th>StayTime</th>\n",
       "      <th>StartTime</th>\n",
       "      <th>...</th>\n",
       "      <th>MSAKind</th>\n",
       "      <th>Age</th>\n",
       "      <th>Sex</th>\n",
       "      <th>Race</th>\n",
       "      <th>Hispanic</th>\n",
       "      <th>Education</th>\n",
       "      <th>Worker</th>\n",
       "      <th>Income</th>\n",
       "      <th>HomeOwn</th>\n",
       "      <th>VehOwn</th>\n",
       "    </tr>\n",
       "  </thead>\n",
       "  <tbody>\n",
       "    <tr>\n",
       "      <th></th>\n",
       "      <td>&lt;float64&gt;</td>\n",
       "      <td>&lt;float64&gt;</td>\n",
       "      <td>&lt;float64&gt;</td>\n",
       "      <td>&lt;float64&gt;</td>\n",
       "      <td>&lt;category&gt;</td>\n",
       "      <td>&lt;category&gt;</td>\n",
       "      <td>&lt;category&gt;</td>\n",
       "      <td>&lt;category&gt;</td>\n",
       "      <td>&lt;category&gt;</td>\n",
       "      <td>&lt;category&gt;</td>\n",
       "      <td>...</td>\n",
       "      <td>&lt;category&gt;</td>\n",
       "      <td>&lt;category&gt;</td>\n",
       "      <td>&lt;category&gt;</td>\n",
       "      <td>&lt;category&gt;</td>\n",
       "      <td>&lt;category&gt;</td>\n",
       "      <td>&lt;category&gt;</td>\n",
       "      <td>&lt;category&gt;</td>\n",
       "      <td>&lt;category&gt;</td>\n",
       "      <td>&lt;category&gt;</td>\n",
       "      <td>&lt;category&gt;</td>\n",
       "    </tr>\n",
       "    <tr>\n",
       "      <th>0</th>\n",
       "      <td>8.439379</td>\n",
       "      <td>16.182075</td>\n",
       "      <td>31.291583</td>\n",
       "      <td>0.5</td>\n",
       "      <td>HBO</td>\n",
       "      <td>Drive</td>\n",
       "      <td>No</td>\n",
       "      <td>Low</td>\n",
       "      <td>Long</td>\n",
       "      <td>Off-peak</td>\n",
       "      <td>...</td>\n",
       "      <td>Small</td>\n",
       "      <td>Senior</td>\n",
       "      <td>Female</td>\n",
       "      <td>Non-White</td>\n",
       "      <td>No</td>\n",
       "      <td>College</td>\n",
       "      <td>No</td>\n",
       "      <td>Mid</td>\n",
       "      <td>Own</td>\n",
       "      <td>High</td>\n",
       "    </tr>\n",
       "  </tbody>\n",
       "</table>\n",
       "<p>2 rows × 21 columns</p>\n",
       "</div>"
      ],
      "text/plain": [
       "    Distance       Time      Speed     Weight     Purpose        Mode  \\\n",
       "   <float64>  <float64>  <float64>  <float64>  <category>  <category>   \n",
       "0   8.439379  16.182075  31.291583        0.5         HBO       Drive   \n",
       "\n",
       "      Weekend    GasPrice    StayTime   StartTime  ...     MSAKind  \\\n",
       "   <category>  <category>  <category>  <category>  ...  <category>   \n",
       "0          No         Low        Long    Off-peak  ...       Small   \n",
       "\n",
       "          Age         Sex        Race    Hispanic   Education      Worker  \\\n",
       "   <category>  <category>  <category>  <category>  <category>  <category>   \n",
       "0      Senior      Female   Non-White          No     College          No   \n",
       "\n",
       "       Income     HomeOwn      VehOwn  \n",
       "   <category>  <category>  <category>  \n",
       "0         Mid         Own        High  \n",
       "\n",
       "[2 rows x 21 columns]"
      ]
     },
     "metadata": {},
     "output_type": "display_data"
    }
   ],
   "source": [
    "trips = pd.read_parquet(DATA / 'trips.parquet').disp()"
   ]
  },
  {
   "cell_type": "code",
   "execution_count": 3,
   "id": "c65eb5e3",
   "metadata": {},
   "outputs": [],
   "source": [
    "factors = list(trips.select_dtypes(CAT).columns)"
   ]
  },
  {
   "cell_type": "markdown",
   "id": "245d4129",
   "metadata": {},
   "source": [
    "## 2.2. Dataset for modeling"
   ]
  },
  {
   "cell_type": "code",
   "execution_count": 4,
   "id": "8062f1d4",
   "metadata": {},
   "outputs": [
    {
     "name": "stdout",
     "output_type": "stream",
     "text": [
      "747,088 rows x 51 cols; Memory: 36.3 MiB\n"
     ]
    },
    {
     "data": {
      "text/html": [
       "<div>\n",
       "<style scoped>\n",
       "    .dataframe tbody tr th:only-of-type {\n",
       "        vertical-align: middle;\n",
       "    }\n",
       "\n",
       "    .dataframe tbody tr th {\n",
       "        vertical-align: top;\n",
       "    }\n",
       "\n",
       "    .dataframe thead th {\n",
       "        text-align: right;\n",
       "    }\n",
       "</style>\n",
       "<table border=\"1\" class=\"dataframe\">\n",
       "  <thead>\n",
       "    <tr style=\"text-align: right;\">\n",
       "      <th></th>\n",
       "      <th>Purpose_HBW</th>\n",
       "      <th>Purpose_HBSHOP</th>\n",
       "      <th>Purpose_HBSOC</th>\n",
       "      <th>Purpose_HBO</th>\n",
       "      <th>Purpose_NHB</th>\n",
       "      <th>Mode_Drive</th>\n",
       "      <th>Mode_Transit</th>\n",
       "      <th>Mode_Walk</th>\n",
       "      <th>Mode_Bike</th>\n",
       "      <th>Weekend_Yes</th>\n",
       "      <th>...</th>\n",
       "      <th>Education_College</th>\n",
       "      <th>Worker_Yes</th>\n",
       "      <th>Worker_No</th>\n",
       "      <th>Income_Low</th>\n",
       "      <th>Income_Mid</th>\n",
       "      <th>Income_High</th>\n",
       "      <th>HomeOwn_Own</th>\n",
       "      <th>HomeOwn_Rent</th>\n",
       "      <th>VehOwn_Low</th>\n",
       "      <th>VehOwn_High</th>\n",
       "    </tr>\n",
       "  </thead>\n",
       "  <tbody>\n",
       "    <tr>\n",
       "      <th></th>\n",
       "      <td>&lt;bool&gt;</td>\n",
       "      <td>&lt;bool&gt;</td>\n",
       "      <td>&lt;bool&gt;</td>\n",
       "      <td>&lt;bool&gt;</td>\n",
       "      <td>&lt;bool&gt;</td>\n",
       "      <td>&lt;bool&gt;</td>\n",
       "      <td>&lt;bool&gt;</td>\n",
       "      <td>&lt;bool&gt;</td>\n",
       "      <td>&lt;bool&gt;</td>\n",
       "      <td>&lt;bool&gt;</td>\n",
       "      <td>...</td>\n",
       "      <td>&lt;bool&gt;</td>\n",
       "      <td>&lt;bool&gt;</td>\n",
       "      <td>&lt;bool&gt;</td>\n",
       "      <td>&lt;bool&gt;</td>\n",
       "      <td>&lt;bool&gt;</td>\n",
       "      <td>&lt;bool&gt;</td>\n",
       "      <td>&lt;bool&gt;</td>\n",
       "      <td>&lt;bool&gt;</td>\n",
       "      <td>&lt;bool&gt;</td>\n",
       "      <td>&lt;bool&gt;</td>\n",
       "    </tr>\n",
       "  </tbody>\n",
       "</table>\n",
       "<p>1 rows × 51 columns</p>\n",
       "</div>"
      ],
      "text/plain": [
       " Purpose_HBW Purpose_HBSHOP Purpose_HBSOC Purpose_HBO Purpose_NHB Mode_Drive  \\\n",
       "      <bool>         <bool>        <bool>      <bool>      <bool>     <bool>   \n",
       "\n",
       " Mode_Transit Mode_Walk Mode_Bike Weekend_Yes  ... Education_College  \\\n",
       "       <bool>    <bool>    <bool>      <bool>  ...            <bool>   \n",
       "\n",
       " Worker_Yes Worker_No Income_Low Income_Mid Income_High HomeOwn_Own  \\\n",
       "     <bool>    <bool>     <bool>     <bool>      <bool>      <bool>   \n",
       "\n",
       " HomeOwn_Rent VehOwn_Low VehOwn_High  \n",
       "       <bool>     <bool>      <bool>  \n",
       "\n",
       "[1 rows x 51 columns]"
      ]
     },
     "metadata": {},
     "output_type": "display_data"
    }
   ],
   "source": [
    "X = pd.get_dummies(trips[factors]).disp(0)"
   ]
  },
  {
   "cell_type": "code",
   "execution_count": 5,
   "id": "b7f6a6b1",
   "metadata": {},
   "outputs": [],
   "source": [
    "# Y = trips[['Distance', 'Time']]\n",
    "Y = pd.concat([np.log(1 + trips[x]).rename(x) \n",
    "               for x in ['Distance', 'Time']], axis=1)"
   ]
  },
  {
   "cell_type": "code",
   "execution_count": 6,
   "id": "eb0dc48d",
   "metadata": {},
   "outputs": [
    {
     "data": {
      "image/png": "[encoded data removed]",
      "text/plain": [
       "<Figure size 1500x450 with 2 Axes>"
      ]
     },
     "metadata": {},
     "output_type": "display_data"
    }
   ],
   "source": [
    "_, axes = plt.subplots(1, 2, figsize=(10, 3))\n",
    "for ax, trg, color in zip(axes, Y.columns, ['lightsalmon', 'darkturquoise']):\n",
    "    ax = pplot(ax, title=trg, yeng=1, ylab='No. of trips')\n",
    "    Y[trg].hist(bins=100, ax=ax, color=color)"
   ]
  },
  {
   "cell_type": "code",
   "execution_count": 7,
   "id": "401ad6e1",
   "metadata": {},
   "outputs": [
    {
     "name": "stdout",
     "output_type": "stream",
     "text": [
      "TRAIN: 522,961\n",
      "VAL: 112,063\n",
      "TEST: 112,064\n"
     ]
    }
   ],
   "source": [
    "train_ratio, val_ratio = 0.7, 0.15\n",
    "np.random.seed(SEED)\n",
    "np.random.shuffle(X.index.values)\n",
    "splits = np.split(X.index, [int(x * len(X)) for x in [\n",
    "    train_ratio, train_ratio + val_ratio, 1]])\n",
    "idx = D(zip(['train', 'val', 'test'], splits[:-1]))\n",
    "for k, v in idx.items():\n",
    "    print(f'{k.upper()}: {len(v):,}')"
   ]
  },
  {
   "cell_type": "markdown",
   "id": "1ceb5844",
   "metadata": {},
   "source": [
    "# 3. Modeling"
   ]
  },
  {
   "cell_type": "code",
   "execution_count": 8,
   "id": "f49ab129",
   "metadata": {},
   "outputs": [],
   "source": [
    "metrics = D(r2=r2_score, mae=mean_absolute_error, \n",
    "            mape=mean_absolute_percentage_error, mse=mean_squared_error)"
   ]
  },
  {
   "cell_type": "markdown",
   "id": "8f325bda",
   "metadata": {},
   "source": [
    "## 3.1. Test models"
   ]
  },
  {
   "cell_type": "code",
   "execution_count": 9,
   "id": "73a20a57",
   "metadata": {},
   "outputs": [],
   "source": [
    "test_models = (\n",
    "    ## Linear models\n",
    "    ('Linear Regression', LinearRegression(), D(\n",
    "        fit_intercept=[True, False],\n",
    "    )),\n",
    "    ('Bayesian Ridge', BayesianRidge(max_iter=1000), D(\n",
    "        alpha_1=[.5e-6, 1e-6, 2e-6],\n",
    "        alpha_2=[.5e-6, 1e-6, 2e-6],\n",
    "        lambda_1=[.5e-6, 1e-6, 2e-6],\n",
    "        lambda_2=[.5e-6, 1e-6, 2e-6],\n",
    "    )),\n",
    "    ('SGD Regression', SGDRegressor(max_iter=1000), D(\n",
    "        alpha=[1e-05, 0.0001, 0.001, 0.01],\n",
    "        l1_ratio=[0.1, 0.15, 0.2, 0.3],\n",
    "        penalty=['l2', 'elasticnet'],\n",
    "    )),\n",
    "    ('Linear SVR', LinearSVR(dual='auto', max_iter=50_000), D(\n",
    "        C=[0.5, 0.75, 1.0, 1.25, 1.5],\n",
    "        epsilon=[0, 0.1, 0.2],\n",
    "        loss=['epsilon_insensitive', 'squared_epsilon_insensitive']\n",
    "    )),\n",
    "    ## Decision tree models\n",
    "    ('Random Forest', RandomForestRegressor(n_jobs=4), D(\n",
    "       n_estimators=[100, 200, 500, 750],\n",
    "       max_depth=[10, 20, 30, 40],\n",
    "    )),\n",
    "    ('Light Gradient Boost', LGBMRegressor(\n",
    "        n_jobs=4, force_row_wise=True, num_leaves=1000, verbosity=-1), D(\n",
    "            learning_rate=[0.05, 0.1, 0.5],\n",
    "            max_depth=[10, 20, 30, 40],\n",
    "            n_estimators=[100, 200, 500, 750],\n",
    "    )),\n",
    "    ('Extreme Gradient Boost', XGBRegressor(n_jobs=4, verbosity=0), D(\n",
    "        booster=['gbtree', 'gblinear'],\n",
    "        learning_rate=[0.05, 0.1, 0.5],\n",
    "        n_estimators=[100, 200, 500, 750],\n",
    "    )),\n",
    ")"
   ]
  },
  {
   "cell_type": "markdown",
   "id": "ad9f3ddd",
   "metadata": {},
   "source": [
    "## 3.2. Cross validate for hyperparameter tuning"
   ]
  },
  {
   "cell_type": "code",
   "execution_count": 26,
   "id": "1b775617",
   "metadata": {},
   "outputs": [
    {
     "name": "stdout",
     "output_type": "stream",
     "text": [
      "14 rows x 8 cols; Memory: 0.0 MiB\n"
     ]
    },
    {
     "data": {
      "text/html": [
       "<div>\n",
       "<style scoped>\n",
       "    .dataframe tbody tr th:only-of-type {\n",
       "        vertical-align: middle;\n",
       "    }\n",
       "\n",
       "    .dataframe tbody tr th {\n",
       "        vertical-align: top;\n",
       "    }\n",
       "\n",
       "    .dataframe thead th {\n",
       "        text-align: right;\n",
       "    }\n",
       "</style>\n",
       "<table border=\"1\" class=\"dataframe\">\n",
       "  <thead>\n",
       "    <tr style=\"text-align: right;\">\n",
       "      <th></th>\n",
       "      <th>target</th>\n",
       "      <th>model</th>\n",
       "      <th>params</th>\n",
       "      <th>estimator</th>\n",
       "      <th>r2</th>\n",
       "      <th>mae</th>\n",
       "      <th>mape</th>\n",
       "      <th>mse</th>\n",
       "    </tr>\n",
       "  </thead>\n",
       "  <tbody>\n",
       "    <tr>\n",
       "      <th></th>\n",
       "      <td>&lt;object&gt;</td>\n",
       "      <td>&lt;object&gt;</td>\n",
       "      <td>&lt;object&gt;</td>\n",
       "      <td>&lt;object&gt;</td>\n",
       "      <td>&lt;float64&gt;</td>\n",
       "      <td>&lt;float64&gt;</td>\n",
       "      <td>&lt;float64&gt;</td>\n",
       "      <td>&lt;float64&gt;</td>\n",
       "    </tr>\n",
       "    <tr>\n",
       "      <th>0</th>\n",
       "      <td>Distance</td>\n",
       "      <td>Linear Regression</td>\n",
       "      <td>{'fit_intercept': False}</td>\n",
       "      <td>LinearRegression(fit_intercept=False)</td>\n",
       "      <td>0.347677</td>\n",
       "      <td>0.657447</td>\n",
       "      <td>0.867719</td>\n",
       "      <td>0.682578</td>\n",
       "    </tr>\n",
       "  </tbody>\n",
       "</table>\n",
       "</div>"
      ],
      "text/plain": [
       "     target              model                    params  \\\n",
       "   <object>           <object>                  <object>   \n",
       "0  Distance  Linear Regression  {'fit_intercept': False}   \n",
       "\n",
       "                               estimator         r2        mae       mape  \\\n",
       "                                <object>  <float64>  <float64>  <float64>   \n",
       "0  LinearRegression(fit_intercept=False)   0.347677   0.657447   0.867719   \n",
       "\n",
       "         mse  \n",
       "   <float64>  \n",
       "0   0.682578  "
      ]
     },
     "metadata": {},
     "output_type": "display_data"
    }
   ],
   "source": [
    "def cross_validate(X=X, Y=Y, idx=idx, models=test_models, metrics=metrics,\n",
    "                   njobs=1, overwrite=False):\n",
    "    od = '_odurban' if any(['ODUrban' in x for x in X.columns]) else ''\n",
    "    outpath = DATA / f'models/cv{od}_{len(idx[\"val\"])/1e3:.0f}k.pickle'\n",
    "    if outpath.exists() and not overwrite:\n",
    "        return pd.read_pickle(outpath)\n",
    "    res = []\n",
    "    for target in Y.columns:\n",
    "        Xval, yval = X.loc[idx['val']], Y.loc[idx['val'], target]\n",
    "        Xtest, ytest = X.loc[idx['test']], Y.loc[idx['test'], target]\n",
    "        pbar = tqdm(models)\n",
    "        for name, model, params in pbar:\n",
    "            pbar.set_description(name)\n",
    "            cv = GridSearchCV(model, params, cv=2, n_jobs=njobs, scoring='r2')\n",
    "            with warnings.catch_warnings():\n",
    "                warnings.simplefilter('ignore')\n",
    "                cv.fit(Xval, yval)\n",
    "            row = D(target=target, model=name, params=cv.best_params_,\n",
    "                    estimator=cv.best_estimator_)\n",
    "            ypred = cv.best_estimator_.predict(Xtest)\n",
    "            for metric, func in metrics.items():\n",
    "                row[metric] = func(ytest, ypred)\n",
    "            res.append(row)\n",
    "    res = Pdf(res)\n",
    "    res.to_pickle(mkfile(outpath))\n",
    "    return res\n",
    "\n",
    "cv = cross_validate(njobs=12, overwrite=0).disp() # t=9:38"
   ]
  },
  {
   "cell_type": "code",
   "execution_count": 27,
   "id": "b6749f69",
   "metadata": {},
   "outputs": [
    {
     "data": {
      "text/html": [
       "<div>\n",
       "<style scoped>\n",
       "    .dataframe tbody tr th:only-of-type {\n",
       "        vertical-align: middle;\n",
       "    }\n",
       "\n",
       "    .dataframe tbody tr th {\n",
       "        vertical-align: top;\n",
       "    }\n",
       "\n",
       "    .dataframe thead tr th {\n",
       "        text-align: left;\n",
       "    }\n",
       "\n",
       "    .dataframe thead tr:last-of-type th {\n",
       "        text-align: right;\n",
       "    }\n",
       "</style>\n",
       "<table border=\"1\" class=\"dataframe\">\n",
       "  <thead>\n",
       "    <tr>\n",
       "      <th>target</th>\n",
       "      <th colspan=\"4\" halign=\"left\">Distance</th>\n",
       "      <th colspan=\"4\" halign=\"left\">Time</th>\n",
       "    </tr>\n",
       "    <tr>\n",
       "      <th>metric</th>\n",
       "      <th>mae</th>\n",
       "      <th>mape</th>\n",
       "      <th>mse</th>\n",
       "      <th>r2</th>\n",
       "      <th>mae</th>\n",
       "      <th>mape</th>\n",
       "      <th>mse</th>\n",
       "      <th>r2</th>\n",
       "    </tr>\n",
       "    <tr>\n",
       "      <th>model</th>\n",
       "      <th></th>\n",
       "      <th></th>\n",
       "      <th></th>\n",
       "      <th></th>\n",
       "      <th></th>\n",
       "      <th></th>\n",
       "      <th></th>\n",
       "      <th></th>\n",
       "    </tr>\n",
       "  </thead>\n",
       "  <tbody>\n",
       "    <tr>\n",
       "      <th>Linear Regression</th>\n",
       "      <td>0.657447</td>\n",
       "      <td>0.867719</td>\n",
       "      <td>0.682578</td>\n",
       "      <td>0.347677</td>\n",
       "      <td>0.565697</td>\n",
       "      <td>0.270526</td>\n",
       "      <td>0.515815</td>\n",
       "      <td>0.146888</td>\n",
       "    </tr>\n",
       "    <tr>\n",
       "      <th>Bayesian Ridge</th>\n",
       "      <td>0.657440</td>\n",
       "      <td>0.867817</td>\n",
       "      <td>0.682572</td>\n",
       "      <td>0.347683</td>\n",
       "      <td>0.565698</td>\n",
       "      <td>0.270568</td>\n",
       "      <td>0.515816</td>\n",
       "      <td>0.146887</td>\n",
       "    </tr>\n",
       "    <tr>\n",
       "      <th>SGD Regression</th>\n",
       "      <td>0.665407</td>\n",
       "      <td>0.923430</td>\n",
       "      <td>0.689433</td>\n",
       "      <td>0.341126</td>\n",
       "      <td>0.565619</td>\n",
       "      <td>0.272351</td>\n",
       "      <td>0.516202</td>\n",
       "      <td>0.146248</td>\n",
       "    </tr>\n",
       "    <tr>\n",
       "      <th>Linear SVR</th>\n",
       "      <td>0.657410</td>\n",
       "      <td>0.867260</td>\n",
       "      <td>0.682556</td>\n",
       "      <td>0.347698</td>\n",
       "      <td>0.565697</td>\n",
       "      <td>0.270545</td>\n",
       "      <td>0.515814</td>\n",
       "      <td>0.146891</td>\n",
       "    </tr>\n",
       "    <tr>\n",
       "      <th>Random Forest</th>\n",
       "      <td>0.648136</td>\n",
       "      <td>0.844643</td>\n",
       "      <td>0.671188</td>\n",
       "      <td>0.358563</td>\n",
       "      <td>0.557485</td>\n",
       "      <td>0.266573</td>\n",
       "      <td>0.503323</td>\n",
       "      <td>0.167549</td>\n",
       "    </tr>\n",
       "    <tr>\n",
       "      <th>Light Gradient Boost</th>\n",
       "      <td>0.641828</td>\n",
       "      <td>0.840010</td>\n",
       "      <td>0.660206</td>\n",
       "      <td>0.369058</td>\n",
       "      <td>0.553669</td>\n",
       "      <td>0.264386</td>\n",
       "      <td>0.496414</td>\n",
       "      <td>0.178976</td>\n",
       "    </tr>\n",
       "    <tr>\n",
       "      <th>Extreme Gradient Boost</th>\n",
       "      <td>0.641429</td>\n",
       "      <td>0.838047</td>\n",
       "      <td>0.658487</td>\n",
       "      <td>0.370701</td>\n",
       "      <td>0.553036</td>\n",
       "      <td>0.264356</td>\n",
       "      <td>0.494892</td>\n",
       "      <td>0.181493</td>\n",
       "    </tr>\n",
       "  </tbody>\n",
       "</table>\n",
       "</div>"
      ],
      "text/plain": [
       "target                  Distance                                    Time  \\\n",
       "metric                       mae      mape       mse        r2       mae   \n",
       "model                                                                      \n",
       "Linear Regression       0.657447  0.867719  0.682578  0.347677  0.565697   \n",
       "Bayesian Ridge          0.657440  0.867817  0.682572  0.347683  0.565698   \n",
       "SGD Regression          0.665407  0.923430  0.689433  0.341126  0.565619   \n",
       "Linear SVR              0.657410  0.867260  0.682556  0.347698  0.565697   \n",
       "Random Forest           0.648136  0.844643  0.671188  0.358563  0.557485   \n",
       "Light Gradient Boost    0.641828  0.840010  0.660206  0.369058  0.553669   \n",
       "Extreme Gradient Boost  0.641429  0.838047  0.658487  0.370701  0.553036   \n",
       "\n",
       "target                                                \n",
       "metric                      mape       mse        r2  \n",
       "model                                                 \n",
       "Linear Regression       0.270526  0.515815  0.146888  \n",
       "Bayesian Ridge          0.270568  0.515816  0.146887  \n",
       "SGD Regression          0.272351  0.516202  0.146248  \n",
       "Linear SVR              0.270545  0.515814  0.146891  \n",
       "Random Forest           0.266573  0.503323  0.167549  \n",
       "Light Gradient Boost    0.264386  0.496414  0.178976  \n",
       "Extreme Gradient Boost  0.264356  0.494892  0.181493  "
      ]
     },
     "execution_count": 27,
     "metadata": {},
     "output_type": "execute_result"
    }
   ],
   "source": [
    "(cv.drop(columns=['params', 'estimator'])\n",
    " .assign(model=lambda df: ordered_factor(df.model))\n",
    " .melt(['target', 'model'], var_name='metric')\n",
    " .pivot_table('value', 'model', ['target', 'metric']))"
   ]
  },
  {
   "cell_type": "markdown",
   "id": "39369be8",
   "metadata": {},
   "source": [
    "# 4. SHAP analysis"
   ]
  },
  {
   "cell_type": "markdown",
   "metadata": {},
   "source": [
    "## 4.1. Compute SHAP values"
   ]
  },
  {
   "cell_type": "code",
   "execution_count": 30,
   "id": "fbbeedfb",
   "metadata": {},
   "outputs": [
    {
     "name": "stdout",
     "output_type": "stream",
     "text": [
      "1,494,176 rows x 52 cols; Memory: 303.5 MiB\n"
     ]
    },
    {
     "data": {
      "text/html": [
       "<div>\n",
       "<style scoped>\n",
       "    .dataframe tbody tr th:only-of-type {\n",
       "        vertical-align: middle;\n",
       "    }\n",
       "\n",
       "    .dataframe tbody tr th {\n",
       "        vertical-align: top;\n",
       "    }\n",
       "\n",
       "    .dataframe thead th {\n",
       "        text-align: right;\n",
       "    }\n",
       "</style>\n",
       "<table border=\"1\" class=\"dataframe\">\n",
       "  <thead>\n",
       "    <tr style=\"text-align: right;\">\n",
       "      <th></th>\n",
       "      <th>Target</th>\n",
       "      <th>Purpose_HBW</th>\n",
       "      <th>Purpose_HBSHOP</th>\n",
       "      <th>Purpose_HBSOC</th>\n",
       "      <th>Purpose_HBO</th>\n",
       "      <th>Purpose_NHB</th>\n",
       "      <th>Mode_Drive</th>\n",
       "      <th>Mode_Transit</th>\n",
       "      <th>Mode_Walk</th>\n",
       "      <th>Mode_Bike</th>\n",
       "      <th>...</th>\n",
       "      <th>Education_College</th>\n",
       "      <th>Worker_Yes</th>\n",
       "      <th>Worker_No</th>\n",
       "      <th>Income_Low</th>\n",
       "      <th>Income_Mid</th>\n",
       "      <th>Income_High</th>\n",
       "      <th>HomeOwn_Own</th>\n",
       "      <th>HomeOwn_Rent</th>\n",
       "      <th>VehOwn_Low</th>\n",
       "      <th>VehOwn_High</th>\n",
       "    </tr>\n",
       "  </thead>\n",
       "  <tbody>\n",
       "    <tr>\n",
       "      <th></th>\n",
       "      <td>&lt;category&gt;</td>\n",
       "      <td>&lt;float32&gt;</td>\n",
       "      <td>&lt;float32&gt;</td>\n",
       "      <td>&lt;float32&gt;</td>\n",
       "      <td>&lt;float32&gt;</td>\n",
       "      <td>&lt;float32&gt;</td>\n",
       "      <td>&lt;float32&gt;</td>\n",
       "      <td>&lt;float32&gt;</td>\n",
       "      <td>&lt;float32&gt;</td>\n",
       "      <td>&lt;float32&gt;</td>\n",
       "      <td>...</td>\n",
       "      <td>&lt;float32&gt;</td>\n",
       "      <td>&lt;float32&gt;</td>\n",
       "      <td>&lt;float32&gt;</td>\n",
       "      <td>&lt;float32&gt;</td>\n",
       "      <td>&lt;float32&gt;</td>\n",
       "      <td>&lt;float32&gt;</td>\n",
       "      <td>&lt;float32&gt;</td>\n",
       "      <td>&lt;float32&gt;</td>\n",
       "      <td>&lt;float32&gt;</td>\n",
       "      <td>&lt;float32&gt;</td>\n",
       "    </tr>\n",
       "    <tr>\n",
       "      <th>0</th>\n",
       "      <td>Distance</td>\n",
       "      <td>-0.050977</td>\n",
       "      <td>0.012705</td>\n",
       "      <td>-0.008256</td>\n",
       "      <td>0.036506</td>\n",
       "      <td>0.052175</td>\n",
       "      <td>0.003061</td>\n",
       "      <td>-0.003754</td>\n",
       "      <td>0.109814</td>\n",
       "      <td>0.004128</td>\n",
       "      <td>...</td>\n",
       "      <td>0.0</td>\n",
       "      <td>-0.014409</td>\n",
       "      <td>0.0</td>\n",
       "      <td>0.030237</td>\n",
       "      <td>0.001271</td>\n",
       "      <td>-0.01545</td>\n",
       "      <td>0.013875</td>\n",
       "      <td>0.0</td>\n",
       "      <td>0.002138</td>\n",
       "      <td>0.0</td>\n",
       "    </tr>\n",
       "  </tbody>\n",
       "</table>\n",
       "<p>2 rows × 52 columns</p>\n",
       "</div>"
      ],
      "text/plain": [
       "       Target Purpose_HBW Purpose_HBSHOP Purpose_HBSOC Purpose_HBO  \\\n",
       "   <category>   <float32>      <float32>     <float32>   <float32>   \n",
       "0    Distance   -0.050977       0.012705     -0.008256    0.036506   \n",
       "\n",
       "  Purpose_NHB Mode_Drive Mode_Transit  Mode_Walk  Mode_Bike  ...  \\\n",
       "    <float32>  <float32>    <float32>  <float32>  <float32>  ...   \n",
       "0    0.052175   0.003061    -0.003754   0.109814   0.004128  ...   \n",
       "\n",
       "  Education_College Worker_Yes  Worker_No Income_Low Income_Mid Income_High  \\\n",
       "          <float32>  <float32>  <float32>  <float32>  <float32>   <float32>   \n",
       "0               0.0  -0.014409        0.0   0.030237   0.001271    -0.01545   \n",
       "\n",
       "  HomeOwn_Own HomeOwn_Rent VehOwn_Low VehOwn_High  \n",
       "    <float32>    <float32>  <float32>   <float32>  \n",
       "0    0.013875          0.0   0.002138         0.0  \n",
       "\n",
       "[2 rows x 52 columns]"
      ]
     },
     "metadata": {},
     "output_type": "display_data"
    }
   ],
   "source": [
    "def get_shaps(cv=cv, model='Extreme Gradient Boost',\n",
    "              X=X, seed=SEED, overwrite=False):\n",
    "    outpath = DATA / 'models/shaps.parquet'\n",
    "    if outpath.exists() and not overwrite:\n",
    "        return pd.read_parquet(outpath)\n",
    "    res = []\n",
    "    for target in tqdm(['Distance', 'Time']):\n",
    "        row = cv.query(f'model==\"{model}\" & target==\"{target}\"').iloc[0]\n",
    "        explainer = shap.TreeExplainer(row.estimator, seed=seed)\n",
    "        shaps = explainer(X).values\n",
    "        df = Pdf(shaps, columns=X.columns).astype(np.float32)\n",
    "        df.insert(0, 'Target', target)\n",
    "        res.append(df)\n",
    "    df = pd.concat(res).astype(D(Target=CAT))\n",
    "    df.to_parquet(mkfile(outpath))\n",
    "    return df\n",
    "\n",
    "shaps = get_shaps(overwrite=0).disp() # t=19:09"
   ]
  },
  {
   "cell_type": "code",
   "execution_count": 31,
   "id": "d23bb0af",
   "metadata": {},
   "outputs": [
    {
     "data": {
      "image/png": "[encoded data removed]",
      "text/plain": [
       "<Figure size 2250x625 with 2 Axes>"
      ]
     },
     "metadata": {},
     "output_type": "display_data"
    }
   ],
   "source": [
    "def fig_shap_contrib(shaps=shaps, dpi=150, cmap='Set2'):\n",
    "    sh = np.abs(shaps.set_index('Target'))\n",
    "    sh = sh.groupby('Target').mean(0).reset_index().melt('Target')\n",
    "    sh['Factor'], sh['Level'] = [ordered_factor(x) for x in \n",
    "                                 zip(*sh.variable.str.split('_'))]\n",
    "    _, axes = plt.subplots(1, 2, figsize=(9, 2.5), dpi=dpi)\n",
    "    for i, target in enumerate(['Distance', 'Time']):\n",
    "        ax = pplot(axes[i], xminor=0, xlim=(-0.5, sh.Factor.nunique() - 0.5),\n",
    "                   ylab='Mean(|SHAP value|)' if i == 0 else '')\n",
    "        for col, d in sh[sh.Target == target].groupby('Factor'):\n",
    "            bottom = d.value.cumsum().shift().fillna(0)\n",
    "            colors = sns.color_palette(cmap, len(d)).as_hex()\n",
    "            for val, bottom, color in zip(d.value, bottom, colors):\n",
    "                ax.bar(col, val, bottom=bottom, color=color, width=0.6)\n",
    "        ax.set_xticklabels([])\n",
    "        if i == 0:\n",
    "            max_levels = sh.groupby(['Target', 'Factor']).size().max()\n",
    "            colors = sns.color_palette(cmap, max_levels)\n",
    "            ax.legend(title='Factor level', title_fontsize=11,\n",
    "                      fontsize=10, handles=[\n",
    "                mpl.patches.Patch(color=c, label=f'{i+1}')\n",
    "                for i, c in enumerate(colors)])\n",
    "    plt.tight_layout()\n",
    "\n",
    "x = fig_shap_contrib(dpi=250); x"
   ]
  },
  {
   "cell_type": "markdown",
   "metadata": {},
   "source": [
    "## 4.2. Sample contributions"
   ]
  },
  {
   "cell_type": "code",
   "execution_count": 15,
   "id": "b4231512",
   "metadata": {},
   "outputs": [
    {
     "data": {
      "text/html": [
       "<div>\n",
       "<style scoped>\n",
       "    .dataframe tbody tr th:only-of-type {\n",
       "        vertical-align: middle;\n",
       "    }\n",
       "\n",
       "    .dataframe tbody tr th {\n",
       "        vertical-align: top;\n",
       "    }\n",
       "\n",
       "    .dataframe thead th {\n",
       "        text-align: right;\n",
       "    }\n",
       "</style>\n",
       "<table border=\"1\" class=\"dataframe\">\n",
       "  <thead>\n",
       "    <tr style=\"text-align: right;\">\n",
       "      <th></th>\n",
       "      <th>target</th>\n",
       "      <th>model</th>\n",
       "      <th>params</th>\n",
       "      <th>estimator</th>\n",
       "      <th>r2</th>\n",
       "      <th>mae</th>\n",
       "      <th>mape</th>\n",
       "      <th>mse</th>\n",
       "    </tr>\n",
       "  </thead>\n",
       "  <tbody>\n",
       "    <tr>\n",
       "      <th>6</th>\n",
       "      <td>Distance</td>\n",
       "      <td>Extreme Gradient Boost</td>\n",
       "      <td>{'booster': 'gbtree', 'learning_rate': 0.1, 'n...</td>\n",
       "      <td>XGBRegressor(base_score=None, booster='gbtree'...</td>\n",
       "      <td>0.262199</td>\n",
       "      <td>0.704601</td>\n",
       "      <td>0.916236</td>\n",
       "      <td>0.772021</td>\n",
       "    </tr>\n",
       "    <tr>\n",
       "      <th>13</th>\n",
       "      <td>Time</td>\n",
       "      <td>Extreme Gradient Boost</td>\n",
       "      <td>{'booster': 'gbtree', 'learning_rate': 0.1, 'n...</td>\n",
       "      <td>XGBRegressor(base_score=None, booster='gbtree'...</td>\n",
       "      <td>0.115508</td>\n",
       "      <td>0.576104</td>\n",
       "      <td>0.276412</td>\n",
       "      <td>0.534788</td>\n",
       "    </tr>\n",
       "  </tbody>\n",
       "</table>\n",
       "</div>"
      ],
      "text/plain": [
       "      target                   model  \\\n",
       "6   Distance  Extreme Gradient Boost   \n",
       "13      Time  Extreme Gradient Boost   \n",
       "\n",
       "                                               params  \\\n",
       "6   {'booster': 'gbtree', 'learning_rate': 0.1, 'n...   \n",
       "13  {'booster': 'gbtree', 'learning_rate': 0.1, 'n...   \n",
       "\n",
       "                                            estimator        r2       mae  \\\n",
       "6   XGBRegressor(base_score=None, booster='gbtree'...  0.262199  0.704601   \n",
       "13  XGBRegressor(base_score=None, booster='gbtree'...  0.115508  0.576104   \n",
       "\n",
       "        mape       mse  \n",
       "6   0.916236  0.772021  \n",
       "13  0.276412  0.534788  "
      ]
     },
     "execution_count": 15,
     "metadata": {},
     "output_type": "execute_result"
    }
   ],
   "source": [
    "cv.query('model==\"Extreme Gradient Boost\"')"
   ]
  },
  {
   "cell_type": "code",
   "execution_count": 17,
   "id": "4f27ba0a",
   "metadata": {},
   "outputs": [
    {
     "name": "stderr",
     "output_type": "stream",
     "text": [
      "[07:10:22] WARNING: /workspace/src/c_api/c_api.cc:1240: Saving into deprecated binary model format, please consider using `json` or `ubj`. Model format will default to JSON in XGBoost 2.2 if not specified.\n",
      "[07:15:09] WARNING: /workspace/src/c_api/c_api.cc:1240: Saving into deprecated binary model format, please consider using `json` or `ubj`. Model format will default to JSON in XGBoost 2.2 if not specified.\n"
     ]
    }
   ],
   "source": [
    "mDist, mTime = cv.query('model==\"Extreme Gradient Boost\"').estimator.tolist()\n",
    "expDist, expTime = [shap.TreeExplainer(model, seed=SEED)(X) for model in tqdm([mDist, mTime])]"
   ]
  },
  {
   "cell_type": "code",
   "execution_count": null,
   "id": "a4542699",
   "metadata": {},
   "outputs": [],
   "source": [
    "plt.figure(dpi=250)\n",
    "shap.plots.beeswarm(expDist, 15, plot_size=0.25)"
   ]
  },
  {
   "cell_type": "code",
   "execution_count": null,
   "id": "af855e7d",
   "metadata": {},
   "outputs": [],
   "source": []
  },
  {
   "cell_type": "code",
   "execution_count": null,
   "id": "c1b39c9b",
   "metadata": {},
   "outputs": [],
   "source": []
  }
 ],
 "metadata": {
  "kernelspec": {
   "display_name": "Python 3 (ipykernel)",
   "language": "python",
   "name": "python3"
  },
  "language_info": {
   "codemirror_mode": {
    "name": "ipython",
    "version": 3
   },
   "file_extension": ".py",
   "mimetype": "text/x-python",
   "name": "python",
   "nbconvert_exporter": "python",
   "pygments_lexer": "ipython3",
   "version": "3.11.6"
  }
 },
 "nbformat": 4,
 "nbformat_minor": 5
}
